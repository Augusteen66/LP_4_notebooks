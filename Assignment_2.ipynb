{
  "nbformat": 4,
  "nbformat_minor": 0,
  "metadata": {
    "colab": {
      "provenance": [],
      "collapsed_sections": []
    },
    "kernelspec": {
      "name": "python3",
      "display_name": "Python 3"
    },
    "language_info": {
      "name": "python"
    }
  },
  "cells": [
    {
      "cell_type": "markdown",
      "source": [
        "## Assignment 2\n",
        "### Name: Aagaaz Ali Sayed\n",
        "### Roll NO: 43369\n",
        "### Batch: S11"
      ],
      "metadata": {
        "id": "alXe8l5FZMTD"
      }
    },
    {
      "cell_type": "markdown",
      "source": [
        "### 1. import the necessary packages"
      ],
      "metadata": {
        "id": "h4r6NekdZljO"
      }
    },
    {
      "cell_type": "code",
      "execution_count": null,
      "metadata": {
        "id": "zSf71UhmZHIB"
      },
      "outputs": [],
      "source": [
        "from sklearn.preprocessing import LabelBinarizer\n",
        "from sklearn.metrics import classification_report\n",
        "from tensorflow.keras.models import Sequential\n",
        "from tensorflow.keras.layers import Dense\n",
        "from tensorflow.keras.optimizers import SGD\n",
        "from tensorflow.keras.datasets import mnist\n",
        "from tensorflow.keras import backend as K\n",
        "import matplotlib.pyplot as plt\n",
        "import numpy as np\n",
        "import argparse\n"
      ]
    },
    {
      "cell_type": "markdown",
      "source": [
        "### 2. Grab the MNIST dataset "
      ],
      "metadata": {
        "id": "6ONu0PPeZrPk"
      }
    },
    {
      "cell_type": "code",
      "source": [
        "print(\"Accessing MNIST...\")\n",
        "((trainX, trainY), (testX, testY)) = mnist.load_data()\n",
        "\n",
        "# each image in the MNIST dataset is represented as a 28x28x1 image, but in order to apply a standard neural network we must first \"flatten\" the image to be simple list of 28x28=784 pixels\n",
        "\n",
        "trainX = trainX.reshape((trainX.shape[0], 28 * 28 * 1))\n",
        "testX = testX.reshape((testX.shape[0], 28 * 28 * 1))\n",
        "# scale data to the range of [0, 1]\n",
        "trainX = trainX.astype(\"float32\") / 255.0\n",
        "testX = testX.astype(\"float32\") / 255.0\n",
        "\n",
        "# convert the labels from integers to vectors\n",
        "le = LabelBinarizer()\n",
        "trainY = le.fit_transform(trainY)\n",
        "testY = le.transform(testY)"
      ],
      "metadata": {
        "colab": {
          "base_uri": "https://localhost:8080/"
        },
        "id": "6MfH9sQMZPGd",
        "outputId": "a5608457-44cf-4f41-ef84-d8c0b9e69529"
      },
      "execution_count": null,
      "outputs": [
        {
          "output_type": "stream",
          "name": "stdout",
          "text": [
            "Accessing MNIST...\n",
            "Downloading data from https://storage.googleapis.com/tensorflow/tf-keras-datasets/mnist.npz\n",
            "11490434/11490434 [==============================] - 0s 0us/step\n"
          ]
        }
      ]
    },
    {
      "cell_type": "markdown",
      "source": [
        "### 3. Feed forward Neural Network"
      ],
      "metadata": {
        "id": "GGm75yDRZwQF"
      }
    },
    {
      "cell_type": "code",
      "source": [
        "model = Sequential()\n",
        "model.add(Dense(256, input_shape=(784,), activation=\"sigmoid\"))\n",
        "model.add(Dense(128, activation=\"sigmoid\"))\n",
        "model.add(Dense(10, activation=\"softmax\"))"
      ],
      "metadata": {
        "id": "SoXFWFRXZVkL"
      },
      "execution_count": null,
      "outputs": []
    },
    {
      "cell_type": "markdown",
      "source": [
        "### 4. Adding SGD optimizer and training"
      ],
      "metadata": {
        "id": "Yu6lPraUZ1fq"
      }
    },
    {
      "cell_type": "code",
      "source": [
        "# Adding optimizer\n",
        "sgd = SGD(0.01) ## Learning rate is 0.01\n",
        "\n",
        "# Fitting and training\n",
        "model.compile(loss=\"categorical_crossentropy\", optimizer=sgd,\n",
        "\tmetrics=[\"accuracy\"])\n",
        "H = model.fit(trainX, trainY, validation_data=(testX, testY),\n",
        "\tepochs=100, batch_size=128)"
      ],
      "metadata": {
        "colab": {
          "base_uri": "https://localhost:8080/"
        },
        "id": "75gymNbaZYyo",
        "outputId": "30c738e0-2612-4539-951f-c16c0d7ac7f1"
      },
      "execution_count": null,
      "outputs": [
        {
          "output_type": "stream",
          "name": "stdout",
          "text": [
            "Epoch 1/100\n",
            "469/469 [==============================] - 4s 6ms/step - loss: 2.2720 - accuracy: 0.2008 - val_loss: 2.2345 - val_accuracy: 0.3487\n",
            "Epoch 2/100\n",
            "469/469 [==============================] - 3s 6ms/step - loss: 2.1977 - accuracy: 0.4012 - val_loss: 2.1531 - val_accuracy: 0.4558\n",
            "Epoch 3/100\n",
            "469/469 [==============================] - 3s 6ms/step - loss: 2.1017 - accuracy: 0.5171 - val_loss: 2.0359 - val_accuracy: 0.5178\n",
            "Epoch 4/100\n",
            "469/469 [==============================] - 3s 6ms/step - loss: 1.9637 - accuracy: 0.5662 - val_loss: 1.8695 - val_accuracy: 0.5823\n",
            "Epoch 5/100\n",
            "469/469 [==============================] - 3s 6ms/step - loss: 1.7762 - accuracy: 0.6113 - val_loss: 1.6583 - val_accuracy: 0.6366\n",
            "Epoch 6/100\n",
            "469/469 [==============================] - 3s 6ms/step - loss: 1.5582 - accuracy: 0.6543 - val_loss: 1.4353 - val_accuracy: 0.7045\n",
            "Epoch 7/100\n",
            "469/469 [==============================] - 3s 6ms/step - loss: 1.3482 - accuracy: 0.6995 - val_loss: 1.2385 - val_accuracy: 0.7241\n",
            "Epoch 8/100\n",
            "469/469 [==============================] - 3s 5ms/step - loss: 1.1725 - accuracy: 0.7351 - val_loss: 1.0831 - val_accuracy: 0.7739\n",
            "Epoch 9/100\n",
            "469/469 [==============================] - 3s 6ms/step - loss: 1.0357 - accuracy: 0.7668 - val_loss: 0.9639 - val_accuracy: 0.7810\n",
            "Epoch 10/100\n",
            "469/469 [==============================] - 3s 6ms/step - loss: 0.9297 - accuracy: 0.7854 - val_loss: 0.8700 - val_accuracy: 0.8055\n",
            "Epoch 11/100\n",
            "469/469 [==============================] - 3s 6ms/step - loss: 0.8459 - accuracy: 0.8035 - val_loss: 0.7954 - val_accuracy: 0.8210\n",
            "Epoch 12/100\n",
            "469/469 [==============================] - 3s 6ms/step - loss: 0.7779 - accuracy: 0.8174 - val_loss: 0.7334 - val_accuracy: 0.8327\n",
            "Epoch 13/100\n",
            "469/469 [==============================] - 3s 6ms/step - loss: 0.7215 - accuracy: 0.8281 - val_loss: 0.6824 - val_accuracy: 0.8410\n",
            "Epoch 14/100\n",
            "469/469 [==============================] - 3s 6ms/step - loss: 0.6745 - accuracy: 0.8374 - val_loss: 0.6387 - val_accuracy: 0.8469\n",
            "Epoch 15/100\n",
            "469/469 [==============================] - 3s 7ms/step - loss: 0.6348 - accuracy: 0.8444 - val_loss: 0.6017 - val_accuracy: 0.8548\n",
            "Epoch 16/100\n",
            "469/469 [==============================] - 3s 6ms/step - loss: 0.6009 - accuracy: 0.8512 - val_loss: 0.5709 - val_accuracy: 0.8607\n",
            "Epoch 17/100\n",
            "469/469 [==============================] - 3s 6ms/step - loss: 0.5719 - accuracy: 0.8569 - val_loss: 0.5442 - val_accuracy: 0.8640\n",
            "Epoch 18/100\n",
            "469/469 [==============================] - 3s 6ms/step - loss: 0.5471 - accuracy: 0.8614 - val_loss: 0.5211 - val_accuracy: 0.8683\n",
            "Epoch 19/100\n",
            "469/469 [==============================] - 3s 6ms/step - loss: 0.5256 - accuracy: 0.8659 - val_loss: 0.5006 - val_accuracy: 0.8730\n",
            "Epoch 20/100\n",
            "469/469 [==============================] - 3s 6ms/step - loss: 0.5067 - accuracy: 0.8697 - val_loss: 0.4826 - val_accuracy: 0.8758\n",
            "Epoch 21/100\n",
            "469/469 [==============================] - 3s 6ms/step - loss: 0.4902 - accuracy: 0.8729 - val_loss: 0.4675 - val_accuracy: 0.8790\n",
            "Epoch 22/100\n",
            "469/469 [==============================] - 3s 6ms/step - loss: 0.4756 - accuracy: 0.8752 - val_loss: 0.4538 - val_accuracy: 0.8807\n",
            "Epoch 23/100\n",
            "469/469 [==============================] - 3s 6ms/step - loss: 0.4626 - accuracy: 0.8782 - val_loss: 0.4415 - val_accuracy: 0.8830\n",
            "Epoch 24/100\n",
            "469/469 [==============================] - 3s 6ms/step - loss: 0.4510 - accuracy: 0.8805 - val_loss: 0.4302 - val_accuracy: 0.8864\n",
            "Epoch 25/100\n",
            "469/469 [==============================] - 3s 6ms/step - loss: 0.4404 - accuracy: 0.8823 - val_loss: 0.4207 - val_accuracy: 0.8881\n",
            "Epoch 26/100\n",
            "469/469 [==============================] - 3s 6ms/step - loss: 0.4311 - accuracy: 0.8840 - val_loss: 0.4112 - val_accuracy: 0.8910\n",
            "Epoch 27/100\n",
            "469/469 [==============================] - 3s 6ms/step - loss: 0.4225 - accuracy: 0.8857 - val_loss: 0.4035 - val_accuracy: 0.8914\n",
            "Epoch 28/100\n",
            "469/469 [==============================] - 3s 6ms/step - loss: 0.4147 - accuracy: 0.8872 - val_loss: 0.3960 - val_accuracy: 0.8935\n",
            "Epoch 29/100\n",
            "469/469 [==============================] - 3s 6ms/step - loss: 0.4075 - accuracy: 0.8884 - val_loss: 0.3901 - val_accuracy: 0.8938\n",
            "Epoch 30/100\n",
            "469/469 [==============================] - 3s 6ms/step - loss: 0.4010 - accuracy: 0.8897 - val_loss: 0.3832 - val_accuracy: 0.8946\n",
            "Epoch 31/100\n",
            "469/469 [==============================] - 3s 6ms/step - loss: 0.3949 - accuracy: 0.8913 - val_loss: 0.3774 - val_accuracy: 0.8956\n",
            "Epoch 32/100\n",
            "469/469 [==============================] - 3s 6ms/step - loss: 0.3894 - accuracy: 0.8927 - val_loss: 0.3725 - val_accuracy: 0.8964\n",
            "Epoch 33/100\n",
            "469/469 [==============================] - 3s 6ms/step - loss: 0.3841 - accuracy: 0.8940 - val_loss: 0.3671 - val_accuracy: 0.8971\n",
            "Epoch 34/100\n",
            "469/469 [==============================] - 3s 6ms/step - loss: 0.3793 - accuracy: 0.8949 - val_loss: 0.3633 - val_accuracy: 0.8981\n",
            "Epoch 35/100\n",
            "469/469 [==============================] - 3s 6ms/step - loss: 0.3749 - accuracy: 0.8957 - val_loss: 0.3584 - val_accuracy: 0.8988\n",
            "Epoch 36/100\n",
            "469/469 [==============================] - 3s 6ms/step - loss: 0.3706 - accuracy: 0.8969 - val_loss: 0.3545 - val_accuracy: 0.8996\n",
            "Epoch 37/100\n",
            "469/469 [==============================] - 3s 6ms/step - loss: 0.3667 - accuracy: 0.8975 - val_loss: 0.3513 - val_accuracy: 0.8997\n",
            "Epoch 38/100\n",
            "469/469 [==============================] - 3s 6ms/step - loss: 0.3629 - accuracy: 0.8982 - val_loss: 0.3476 - val_accuracy: 0.9007\n",
            "Epoch 39/100\n",
            "469/469 [==============================] - 3s 6ms/step - loss: 0.3594 - accuracy: 0.8990 - val_loss: 0.3441 - val_accuracy: 0.9020\n",
            "Epoch 40/100\n",
            "469/469 [==============================] - 3s 6ms/step - loss: 0.3560 - accuracy: 0.8998 - val_loss: 0.3412 - val_accuracy: 0.9023\n",
            "Epoch 41/100\n",
            "469/469 [==============================] - 3s 6ms/step - loss: 0.3529 - accuracy: 0.9000 - val_loss: 0.3382 - val_accuracy: 0.9022\n",
            "Epoch 42/100\n",
            "469/469 [==============================] - 3s 6ms/step - loss: 0.3499 - accuracy: 0.9009 - val_loss: 0.3354 - val_accuracy: 0.9029\n",
            "Epoch 43/100\n",
            "469/469 [==============================] - 3s 6ms/step - loss: 0.3470 - accuracy: 0.9013 - val_loss: 0.3324 - val_accuracy: 0.9047\n",
            "Epoch 44/100\n",
            "469/469 [==============================] - 3s 6ms/step - loss: 0.3443 - accuracy: 0.9024 - val_loss: 0.3301 - val_accuracy: 0.9052\n",
            "Epoch 45/100\n",
            "469/469 [==============================] - 3s 6ms/step - loss: 0.3417 - accuracy: 0.9026 - val_loss: 0.3276 - val_accuracy: 0.9052\n",
            "Epoch 46/100\n",
            "469/469 [==============================] - 3s 6ms/step - loss: 0.3392 - accuracy: 0.9033 - val_loss: 0.3256 - val_accuracy: 0.9058\n",
            "Epoch 47/100\n",
            "469/469 [==============================] - 3s 6ms/step - loss: 0.3368 - accuracy: 0.9040 - val_loss: 0.3234 - val_accuracy: 0.9061\n",
            "Epoch 48/100\n",
            "469/469 [==============================] - 3s 6ms/step - loss: 0.3344 - accuracy: 0.9046 - val_loss: 0.3212 - val_accuracy: 0.9070\n",
            "Epoch 49/100\n",
            "469/469 [==============================] - 3s 6ms/step - loss: 0.3322 - accuracy: 0.9050 - val_loss: 0.3193 - val_accuracy: 0.9077\n",
            "Epoch 50/100\n",
            "469/469 [==============================] - 3s 6ms/step - loss: 0.3300 - accuracy: 0.9058 - val_loss: 0.3172 - val_accuracy: 0.9079\n",
            "Epoch 51/100\n",
            "469/469 [==============================] - 3s 6ms/step - loss: 0.3280 - accuracy: 0.9061 - val_loss: 0.3152 - val_accuracy: 0.9082\n",
            "Epoch 52/100\n",
            "469/469 [==============================] - 3s 6ms/step - loss: 0.3260 - accuracy: 0.9066 - val_loss: 0.3130 - val_accuracy: 0.9086\n",
            "Epoch 53/100\n",
            "469/469 [==============================] - 3s 6ms/step - loss: 0.3241 - accuracy: 0.9073 - val_loss: 0.3113 - val_accuracy: 0.9094\n",
            "Epoch 54/100\n",
            "469/469 [==============================] - 3s 6ms/step - loss: 0.3221 - accuracy: 0.9079 - val_loss: 0.3097 - val_accuracy: 0.9107\n",
            "Epoch 55/100\n",
            "469/469 [==============================] - 3s 6ms/step - loss: 0.3203 - accuracy: 0.9081 - val_loss: 0.3082 - val_accuracy: 0.9103\n",
            "Epoch 56/100\n",
            "469/469 [==============================] - 3s 6ms/step - loss: 0.3186 - accuracy: 0.9085 - val_loss: 0.3066 - val_accuracy: 0.9112\n",
            "Epoch 57/100\n",
            "469/469 [==============================] - 3s 6ms/step - loss: 0.3168 - accuracy: 0.9091 - val_loss: 0.3051 - val_accuracy: 0.9111\n",
            "Epoch 58/100\n",
            "469/469 [==============================] - 3s 6ms/step - loss: 0.3152 - accuracy: 0.9099 - val_loss: 0.3034 - val_accuracy: 0.9122\n",
            "Epoch 59/100\n",
            "469/469 [==============================] - 3s 6ms/step - loss: 0.3135 - accuracy: 0.9097 - val_loss: 0.3015 - val_accuracy: 0.9130\n",
            "Epoch 60/100\n",
            "469/469 [==============================] - 3s 6ms/step - loss: 0.3120 - accuracy: 0.9101 - val_loss: 0.3002 - val_accuracy: 0.9128\n",
            "Epoch 61/100\n",
            "469/469 [==============================] - 3s 6ms/step - loss: 0.3105 - accuracy: 0.9107 - val_loss: 0.2991 - val_accuracy: 0.9139\n",
            "Epoch 62/100\n",
            "469/469 [==============================] - 3s 6ms/step - loss: 0.3090 - accuracy: 0.9112 - val_loss: 0.2980 - val_accuracy: 0.9130\n",
            "Epoch 63/100\n",
            "469/469 [==============================] - 3s 6ms/step - loss: 0.3074 - accuracy: 0.9118 - val_loss: 0.2968 - val_accuracy: 0.9140\n",
            "Epoch 64/100\n",
            "469/469 [==============================] - 3s 6ms/step - loss: 0.3061 - accuracy: 0.9120 - val_loss: 0.2954 - val_accuracy: 0.9149\n",
            "Epoch 65/100\n",
            "469/469 [==============================] - 3s 6ms/step - loss: 0.3046 - accuracy: 0.9125 - val_loss: 0.2936 - val_accuracy: 0.9155\n",
            "Epoch 66/100\n",
            "469/469 [==============================] - 3s 6ms/step - loss: 0.3032 - accuracy: 0.9127 - val_loss: 0.2924 - val_accuracy: 0.9163\n",
            "Epoch 67/100\n",
            "469/469 [==============================] - 3s 6ms/step - loss: 0.3019 - accuracy: 0.9131 - val_loss: 0.2911 - val_accuracy: 0.9157\n",
            "Epoch 68/100\n",
            "469/469 [==============================] - 3s 6ms/step - loss: 0.3005 - accuracy: 0.9137 - val_loss: 0.2903 - val_accuracy: 0.9160\n",
            "Epoch 69/100\n",
            "469/469 [==============================] - 3s 6ms/step - loss: 0.2993 - accuracy: 0.9142 - val_loss: 0.2890 - val_accuracy: 0.9155\n",
            "Epoch 70/100\n",
            "469/469 [==============================] - 3s 6ms/step - loss: 0.2980 - accuracy: 0.9144 - val_loss: 0.2877 - val_accuracy: 0.9167\n",
            "Epoch 71/100\n",
            "469/469 [==============================] - 3s 6ms/step - loss: 0.2967 - accuracy: 0.9144 - val_loss: 0.2867 - val_accuracy: 0.9175\n",
            "Epoch 72/100\n",
            "469/469 [==============================] - 3s 6ms/step - loss: 0.2955 - accuracy: 0.9147 - val_loss: 0.2860 - val_accuracy: 0.9173\n",
            "Epoch 73/100\n",
            "469/469 [==============================] - 3s 6ms/step - loss: 0.2943 - accuracy: 0.9151 - val_loss: 0.2849 - val_accuracy: 0.9179\n",
            "Epoch 74/100\n",
            "469/469 [==============================] - 3s 6ms/step - loss: 0.2932 - accuracy: 0.9156 - val_loss: 0.2836 - val_accuracy: 0.9177\n",
            "Epoch 75/100\n",
            "469/469 [==============================] - 3s 6ms/step - loss: 0.2920 - accuracy: 0.9159 - val_loss: 0.2827 - val_accuracy: 0.9175\n",
            "Epoch 76/100\n",
            "469/469 [==============================] - 3s 6ms/step - loss: 0.2908 - accuracy: 0.9161 - val_loss: 0.2816 - val_accuracy: 0.9186\n",
            "Epoch 77/100\n",
            "469/469 [==============================] - 3s 6ms/step - loss: 0.2897 - accuracy: 0.9162 - val_loss: 0.2802 - val_accuracy: 0.9186\n",
            "Epoch 78/100\n",
            "469/469 [==============================] - 3s 6ms/step - loss: 0.2886 - accuracy: 0.9168 - val_loss: 0.2796 - val_accuracy: 0.9194\n",
            "Epoch 79/100\n",
            "469/469 [==============================] - 3s 6ms/step - loss: 0.2875 - accuracy: 0.9168 - val_loss: 0.2784 - val_accuracy: 0.9196\n",
            "Epoch 80/100\n",
            "469/469 [==============================] - 3s 6ms/step - loss: 0.2864 - accuracy: 0.9170 - val_loss: 0.2774 - val_accuracy: 0.9203\n",
            "Epoch 81/100\n",
            "469/469 [==============================] - 3s 6ms/step - loss: 0.2853 - accuracy: 0.9172 - val_loss: 0.2765 - val_accuracy: 0.9212\n",
            "Epoch 82/100\n",
            "469/469 [==============================] - 3s 6ms/step - loss: 0.2842 - accuracy: 0.9178 - val_loss: 0.2754 - val_accuracy: 0.9207\n",
            "Epoch 83/100\n",
            "469/469 [==============================] - 3s 7ms/step - loss: 0.2832 - accuracy: 0.9179 - val_loss: 0.2750 - val_accuracy: 0.9213\n",
            "Epoch 84/100\n",
            "469/469 [==============================] - 3s 6ms/step - loss: 0.2822 - accuracy: 0.9182 - val_loss: 0.2740 - val_accuracy: 0.9217\n",
            "Epoch 85/100\n",
            "469/469 [==============================] - 3s 6ms/step - loss: 0.2812 - accuracy: 0.9181 - val_loss: 0.2733 - val_accuracy: 0.9213\n",
            "Epoch 86/100\n",
            "469/469 [==============================] - 3s 6ms/step - loss: 0.2803 - accuracy: 0.9183 - val_loss: 0.2721 - val_accuracy: 0.9220\n",
            "Epoch 87/100\n",
            "469/469 [==============================] - 3s 6ms/step - loss: 0.2792 - accuracy: 0.9190 - val_loss: 0.2710 - val_accuracy: 0.9234\n",
            "Epoch 88/100\n",
            "469/469 [==============================] - 3s 6ms/step - loss: 0.2782 - accuracy: 0.9190 - val_loss: 0.2703 - val_accuracy: 0.9227\n",
            "Epoch 89/100\n",
            "469/469 [==============================] - 3s 6ms/step - loss: 0.2773 - accuracy: 0.9194 - val_loss: 0.2698 - val_accuracy: 0.9227\n",
            "Epoch 90/100\n",
            "469/469 [==============================] - 3s 6ms/step - loss: 0.2764 - accuracy: 0.9197 - val_loss: 0.2686 - val_accuracy: 0.9230\n",
            "Epoch 91/100\n",
            "469/469 [==============================] - 3s 6ms/step - loss: 0.2754 - accuracy: 0.9201 - val_loss: 0.2676 - val_accuracy: 0.9239\n",
            "Epoch 92/100\n",
            "469/469 [==============================] - 3s 6ms/step - loss: 0.2744 - accuracy: 0.9202 - val_loss: 0.2667 - val_accuracy: 0.9238\n",
            "Epoch 93/100\n",
            "469/469 [==============================] - 3s 6ms/step - loss: 0.2735 - accuracy: 0.9204 - val_loss: 0.2666 - val_accuracy: 0.9238\n",
            "Epoch 94/100\n",
            "469/469 [==============================] - 3s 6ms/step - loss: 0.2726 - accuracy: 0.9209 - val_loss: 0.2653 - val_accuracy: 0.9249\n",
            "Epoch 95/100\n",
            "469/469 [==============================] - 3s 6ms/step - loss: 0.2717 - accuracy: 0.9210 - val_loss: 0.2647 - val_accuracy: 0.9246\n",
            "Epoch 96/100\n",
            "469/469 [==============================] - 3s 6ms/step - loss: 0.2708 - accuracy: 0.9212 - val_loss: 0.2639 - val_accuracy: 0.9241\n",
            "Epoch 97/100\n",
            "469/469 [==============================] - 3s 6ms/step - loss: 0.2700 - accuracy: 0.9215 - val_loss: 0.2633 - val_accuracy: 0.9250\n",
            "Epoch 98/100\n",
            "469/469 [==============================] - 3s 6ms/step - loss: 0.2690 - accuracy: 0.9217 - val_loss: 0.2627 - val_accuracy: 0.9245\n",
            "Epoch 99/100\n",
            "469/469 [==============================] - 3s 6ms/step - loss: 0.2682 - accuracy: 0.9219 - val_loss: 0.2619 - val_accuracy: 0.9258\n",
            "Epoch 100/100\n",
            "469/469 [==============================] - 3s 6ms/step - loss: 0.2673 - accuracy: 0.9222 - val_loss: 0.2611 - val_accuracy: 0.9255\n"
          ]
        }
      ]
    },
    {
      "cell_type": "code",
      "source": [
        "print(model.summary())"
      ],
      "metadata": {
        "colab": {
          "base_uri": "https://localhost:8080/"
        },
        "id": "-g8SSNmSZcAY",
        "outputId": "636902b8-46c9-43e9-d70f-76d69325d8ed"
      },
      "execution_count": null,
      "outputs": [
        {
          "output_type": "stream",
          "name": "stdout",
          "text": [
            "Model: \"sequential\"\n",
            "_________________________________________________________________\n",
            " Layer (type)                Output Shape              Param #   \n",
            "=================================================================\n",
            " dense (Dense)               (None, 256)               200960    \n",
            "                                                                 \n",
            " dense_1 (Dense)             (None, 128)               32896     \n",
            "                                                                 \n",
            " dense_2 (Dense)             (None, 10)                1290      \n",
            "                                                                 \n",
            "=================================================================\n",
            "Total params: 235,146\n",
            "Trainable params: 235,146\n",
            "Non-trainable params: 0\n",
            "_________________________________________________________________\n",
            "None\n"
          ]
        }
      ]
    },
    {
      "cell_type": "markdown",
      "source": [
        "### 5. Evaluating the model"
      ],
      "metadata": {
        "id": "S-YGWU7XZ-QA"
      }
    },
    {
      "cell_type": "code",
      "source": [
        "predictions = model.predict(testX, batch_size=128)\n",
        "print(classification_report(testY.argmax(axis=1),\n",
        "\tpredictions.argmax(axis=1),\n",
        "\ttarget_names=[str(x) for x in le.classes_]))"
      ],
      "metadata": {
        "colab": {
          "base_uri": "https://localhost:8080/"
        },
        "id": "TdvdIWNeZeYy",
        "outputId": "d9b94b39-a049-4694-cd37-54e5b385b257"
      },
      "execution_count": null,
      "outputs": [
        {
          "output_type": "stream",
          "name": "stdout",
          "text": [
            "79/79 [==============================] - 0s 3ms/step\n",
            "              precision    recall  f1-score   support\n",
            "\n",
            "           0       0.94      0.98      0.96       980\n",
            "           1       0.97      0.98      0.97      1135\n",
            "           2       0.93      0.90      0.91      1032\n",
            "           3       0.91      0.92      0.91      1010\n",
            "           4       0.91      0.94      0.93       982\n",
            "           5       0.90      0.87      0.89       892\n",
            "           6       0.94      0.95      0.94       958\n",
            "           7       0.93      0.93      0.93      1028\n",
            "           8       0.90      0.89      0.89       974\n",
            "           9       0.92      0.90      0.91      1009\n",
            "\n",
            "    accuracy                           0.93     10000\n",
            "   macro avg       0.92      0.92      0.92     10000\n",
            "weighted avg       0.93      0.93      0.93     10000\n",
            "\n"
          ]
        }
      ]
    },
    {
      "cell_type": "markdown",
      "source": [
        "### 6. Plotting training loss and accuracy"
      ],
      "metadata": {
        "id": "4VFnUZmraEQh"
      }
    },
    {
      "cell_type": "code",
      "source": [
        "# plot the training loss and accuracy\n",
        "plt.style.use(\"ggplot\")\n",
        "plt.figure()\n",
        "plt.plot(np.arange(0, 100), H.history[\"loss\"], label=\"train_loss\")\n",
        "plt.plot(np.arange(0, 100), H.history[\"val_loss\"], label=\"val_loss\")\n",
        "plt.plot(np.arange(0, 100), H.history[\"accuracy\"], label=\"train_acc\")\n",
        "plt.plot(np.arange(0, 100), H.history[\"val_accuracy\"], label=\"val_acc\")\n",
        "plt.title(\"Training Loss and Accuracy\")\n",
        "plt.xlabel(\"Epoch #\")\n",
        "plt.ylabel(\"Loss/Accuracy\")\n",
        "plt.legend()"
      ],
      "metadata": {
        "colab": {
          "base_uri": "https://localhost:8080/",
          "height": 316
        },
        "id": "lOso-M3ZZgIR",
        "outputId": "e60968eb-5a1d-4f7a-de17-026e0fd62a71"
      },
      "execution_count": null,
      "outputs": [
        {
          "output_type": "execute_result",
          "data": {
            "text/plain": [
              "<matplotlib.legend.Legend at 0x7fc307e411d0>"
            ]
          },
          "metadata": {},
          "execution_count": 7
        },
        {
          "output_type": "display_data",
          "data": {
            "text/plain": [
              "<Figure size 432x288 with 1 Axes>"
            ],
            "image/png": "[encoded data removed]"
          },
          "metadata": {}
        }
      ]
    },
    {
      "cell_type": "code",
      "source": [],
      "metadata": {
        "id": "aVcMmScZse_w"
      },
      "execution_count": null,
      "outputs": []
    }
  ]
}